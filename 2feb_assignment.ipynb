{
 "cells": [
  {
   "cell_type": "markdown",
   "id": "fceb5131-0700-4327-984e-b5afe2067b67",
   "metadata": {},
   "source": [
    "Q 1 . Explain with an example each when to use a for loop and a while loop.\n",
    "\n",
    "Answer : 1) For loop is used when the number of iterations is known.\n",
    "         2) While loop is used when the number of interations is not known.   "
   ]
  },
  {
   "cell_type": "code",
   "execution_count": 1,
   "id": "8a0cf3cd-573b-4b42-879c-1277ea1a8e69",
   "metadata": {},
   "outputs": [
    {
     "name": "stdout",
     "output_type": "stream",
     "text": [
      "10\n",
      "20\n",
      "30\n",
      "40\n",
      "50\n"
     ]
    }
   ],
   "source": [
    "## For loop example \n",
    "input_list = [10,20,30,40,50]\n",
    "\n",
    "for i in input_list :\n",
    "    print(i)"
   ]
  },
  {
   "cell_type": "code",
   "execution_count": 2,
   "id": "6c472059-6068-44dd-8085-41c07bc2c1ed",
   "metadata": {},
   "outputs": [
    {
     "name": "stdout",
     "output_type": "stream",
     "text": [
      "1\n",
      "2\n",
      "3\n",
      "4\n",
      "5\n",
      "6\n",
      "7\n",
      "8\n",
      "9\n"
     ]
    }
   ],
   "source": [
    "## while loop example\n",
    "\n",
    "a = 1\n",
    "\n",
    "while a < 10 :\n",
    "    print (a)\n",
    "    a = a + 1"
   ]
  },
  {
   "cell_type": "markdown",
   "id": "10856ddc-db75-4bfc-ab3d-6ba67c71d40c",
   "metadata": {},
   "source": [
    "Q2.  Write a python program to print the sum and product of the first 10 natural numbers using for\n",
    "and while loop."
   ]
  },
  {
   "cell_type": "markdown",
   "id": "0f8d4ca1-ecf3-481e-a766-100d2fcf9c9e",
   "metadata": {},
   "source": [
    "Answer : "
   ]
  },
  {
   "cell_type": "code",
   "execution_count": 8,
   "id": "d956df61-dfcc-45f8-8a55-1c38cef050f1",
   "metadata": {},
   "outputs": [
    {
     "name": "stdout",
     "output_type": "stream",
     "text": [
      "55\n",
      "3628800\n"
     ]
    }
   ],
   "source": [
    "## Using for loop\n",
    "\n",
    "x = [1,2,3,4,5,6,7,8,9,10]\n",
    "\n",
    "add = 0\n",
    "\n",
    "prod = 1\n",
    "\n",
    "for i in x :\n",
    "    \n",
    "    add = add + i\n",
    "    \n",
    "    prod = prod * i\n",
    "    \n",
    "print (add) \n",
    "\n",
    "print (prod)\n"
   ]
  },
  {
   "cell_type": "code",
   "execution_count": 4,
   "id": "449313c4-a1e0-4504-969c-d8749e172c37",
   "metadata": {},
   "outputs": [
    {
     "name": "stdout",
     "output_type": "stream",
     "text": [
      "55\n"
     ]
    }
   ],
   "source": [
    "## using while loop addition\n",
    "\n",
    "y = 11\n",
    "\n",
    "z = 0\n",
    "\n",
    "addition = 0\n",
    "\n",
    "while z < y :\n",
    "    addition = addition + z\n",
    "    z = z + 1\n",
    "print (addition)"
   ]
  },
  {
   "cell_type": "code",
   "execution_count": 5,
   "id": "8afab265-0ec4-454d-95e7-cbf84d6abc36",
   "metadata": {},
   "outputs": [
    {
     "name": "stdout",
     "output_type": "stream",
     "text": [
      "3628800\n"
     ]
    }
   ],
   "source": [
    "## using while loop product\n",
    "\n",
    "p = 11\n",
    "\n",
    "q = 1\n",
    "\n",
    "product = 1\n",
    "\n",
    "while q < p :\n",
    "    product = product * q\n",
    "    q = q + 1\n",
    "print(product)"
   ]
  },
  {
   "cell_type": "markdown",
   "id": "5fc2f080-50b9-42d3-90d1-2d66cc73242a",
   "metadata": {},
   "source": [
    "Q 3 Answer "
   ]
  },
  {
   "cell_type": "code",
   "execution_count": 7,
   "id": "c4b07d49-3387-495d-9c0d-4fa0c4e935a7",
   "metadata": {},
   "outputs": [
    {
     "name": "stdin",
     "output_type": "stream",
     "text": [
      "enter unit 310\n"
     ]
    },
    {
     "name": "stdout",
     "output_type": "stream",
     "text": [
      "electricity bill =  2250\n"
     ]
    }
   ],
   "source": [
    "unit = int(input(\"enter unit\"))\n",
    "\n",
    "if unit <= 100 :\n",
    "    bill = unit * 4.5\n",
    "elif unit > 100 and unit <= 200 :\n",
    "    bill = 450 + ((unit-100)*6)\n",
    "elif unit > 200 and unit <= 300 :\n",
    "    bill = 450 + 600 + ((unit-200)*10)\n",
    "else :\n",
    "    bill = 450 + 600 + 1000 + ((unit-300)*20)\n",
    "    \n",
    "print (\"electricity bill = \",bill)\n",
    "    \n",
    "    "
   ]
  },
  {
   "cell_type": "markdown",
   "id": "b5eb6f8d-d3ea-442d-92b6-f3b86c0d5119",
   "metadata": {},
   "source": [
    "Q 4 Answer "
   ]
  },
  {
   "cell_type": "code",
   "execution_count": 1,
   "id": "34cffa81-0e07-4114-aead-54408498d51e",
   "metadata": {},
   "outputs": [
    {
     "name": "stdout",
     "output_type": "stream",
     "text": [
      "[8, 64, 125, 216, 512, 1000, 1728, 2744, 3375, 4096, 5832, 8000, 10648, 13824, 15625, 17576, 21952, 27000, 32768, 39304, 42875, 46656, 54872, 64000, 74088, 85184, 91125, 97336, 110592, 125000, 140608, 157464, 166375, 175616, 195112, 216000, 238328, 262144, 274625, 287496, 314432, 343000, 373248, 405224, 421875, 438976, 474552, 512000, 551368, 592704, 614125, 636056, 681472, 729000, 778688, 830584, 857375, 884736, 941192, 1000000]\n"
     ]
    }
   ],
   "source": [
    "## using for loop \n",
    "\n",
    "l1 = list(range(1,101))\n",
    "\n",
    "l2 = []\n",
    "\n",
    "for i in l1 :\n",
    "    a = i ** 3\n",
    "    if a%4 == 0 or a%5 == 0 :\n",
    "        l2.append(a)\n",
    "print(l2)\n",
    "    "
   ]
  },
  {
   "cell_type": "code",
   "execution_count": 2,
   "id": "4ed7bb5e-0584-442c-81f7-426b20dc3226",
   "metadata": {},
   "outputs": [
    {
     "name": "stdout",
     "output_type": "stream",
     "text": [
      "[8, 64, 125, 216, 512, 1000, 1728, 2744, 3375, 4096, 5832, 8000, 10648, 13824, 15625, 17576, 21952, 27000, 32768, 39304, 42875, 46656, 54872, 64000, 74088, 85184, 91125, 97336, 110592, 125000, 140608, 157464, 166375, 175616, 195112, 216000, 238328, 262144, 274625, 287496, 314432, 343000, 373248, 405224, 421875, 438976, 474552, 512000, 551368, 592704, 614125, 636056, 681472, 729000, 778688, 830584, 857375, 884736, 941192, 1000000]\n"
     ]
    }
   ],
   "source": [
    "## using while loop\n",
    "x = 1\n",
    "l3 = []\n",
    "\n",
    "while x < 101 :\n",
    "    b = x ** 3\n",
    "    if b%4 == 0 or b%5 == 0 :\n",
    "        l3.append(b)\n",
    "    x = x + 1\n",
    "print(l3)\n"
   ]
  },
  {
   "cell_type": "markdown",
   "id": "3c452919-7bd2-4e98-8d2b-220143ac80fd",
   "metadata": {},
   "source": [
    "Q 5 Answer."
   ]
  },
  {
   "cell_type": "code",
   "execution_count": 5,
   "id": "dcf368e0-d892-43a7-9d62-8475e5cbd6aa",
   "metadata": {},
   "outputs": [],
   "source": [
    "string = \"I want to become a data scientist\"\n",
    "\n",
    "def vowelcount(a) :\n",
    "    \n",
    "    count = 0 \n",
    "    \n",
    "    vowel = set(\"aeiouAEIOU\")\n",
    "    \n",
    "    for alphabet in a :\n",
    "        \n",
    "        if alphabet in vowel :\n",
    "            \n",
    "            count = count + 1\n",
    "            \n",
    "    print (\"The number of vowels = \",count)"
   ]
  },
  {
   "cell_type": "code",
   "execution_count": 6,
   "id": "923e84b9-c4c7-45f4-8e2d-d6f729a95dcb",
   "metadata": {},
   "outputs": [
    {
     "name": "stdout",
     "output_type": "stream",
     "text": [
      "The number of vowels =  12\n"
     ]
    }
   ],
   "source": [
    "vowelcount(string)"
   ]
  },
  {
   "cell_type": "code",
   "execution_count": null,
   "id": "dcdee67c-9ef7-45d4-a215-1a5e5f7af0e6",
   "metadata": {},
   "outputs": [],
   "source": []
  }
 ],
 "metadata": {
  "kernelspec": {
   "display_name": "Python 3 (ipykernel)",
   "language": "python",
   "name": "python3"
  },
  "language_info": {
   "codemirror_mode": {
    "name": "ipython",
    "version": 3
   },
   "file_extension": ".py",
   "mimetype": "text/x-python",
   "name": "python",
   "nbconvert_exporter": "python",
   "pygments_lexer": "ipython3",
   "version": "3.10.8"
  }
 },
 "nbformat": 4,
 "nbformat_minor": 5
}
